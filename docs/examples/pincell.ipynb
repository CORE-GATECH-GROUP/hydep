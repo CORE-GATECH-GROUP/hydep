{
 "cells": [
  {
   "cell_type": "markdown",
   "metadata": {},
   "source": [
    "# Modelling a pincell\n",
    "\n",
    "The purpose of this document is to describe the material and geometry modeling contained in :mod:`hydep`. Users should refer to [the geometry scope](../scope.rst#geometry-modeling) and [the API reference](../api/geometry.rst) to understand the motivation behind the library design.\n",
    "\n",
    "We will start with building a single 2D pin cell, with fuel, gap, clad, and moderator region."
   ]
  },
  {
   "cell_type": "code",
   "execution_count": 1,
   "metadata": {},
   "outputs": [],
   "source": [
    "import math\n",
    "\n",
    "import hydep"
   ]
  },
  {
   "cell_type": "markdown",
   "metadata": {},
   "source": [
    "## Materials\n",
    "\n",
    "There are two material classes provided in ``hydep``: ``Material`` and ``BurnableMaterial``. The latter behaves identically to the former, with the primary distinction that its compositions will be evolved through the simulation. When creating a material, one must supply either the mass density of the material in grams/cm$^3$, or atom density, in atoms/b-cm. Optionally, one can also define temperature (in K) and volumes (in cm$^3$), either at construction or later as attributes. **NOTE** Burnable materials must have a volume prior to running the simulation."
   ]
  },
  {
   "cell_type": "code",
   "execution_count": 2,
   "metadata": {},
   "outputs": [],
   "source": [
    "water = hydep.Material(\"water\", mdens=0.75)\n",
    "water.temperature = 600"
   ]
  },
  {
   "cell_type": "markdown",
   "metadata": {},
   "source": [
    "Populating the material with isotopes is done by treating the material like a dictionary. Keys can be either string isotope names or integers representing the ``ZAI`` identifier for a given isotope. ``Z`` denotes number of protons, ``A`` protons and neutrons, and ``I`` a metastable flag with 0 indicating a ground state isotope and postive number the metastable state. The corresponding values are the individual atom densities in atoms/b-cm for each isotope. This differs from atomic fractions, as will be demonstrated with water"
   ]
  },
  {
   "cell_type": "code",
   "execution_count": 3,
   "metadata": {},
   "outputs": [],
   "source": [
    "water[\"H1\"] = 5.01543e-2\n",
    "water[80160] = 2.50771e-2"
   ]
  },
  {
   "cell_type": "markdown",
   "metadata": {},
   "source": [
    "We can indicate that thermal scattering $S(\\alpha,\\beta)$ libraries for hydrogen in water should be used for our moderator "
   ]
  },
  {
   "cell_type": "code",
   "execution_count": 4,
   "metadata": {},
   "outputs": [],
   "source": [
    "water.addSAlphaBeta(\"HinH20\")"
   ]
  },
  {
   "cell_type": "code",
   "execution_count": 5,
   "metadata": {},
   "outputs": [
    {
     "data": {
      "text/plain": [
       "Material 1 water 7.50000e-01 [g/cc] at 600.00000 K\n",
       "  H1: 5.01543e-02\n",
       "  O16: 2.50771e-02\n",
       "S(a,b): ['HinH20']"
      ]
     },
     "execution_count": 5,
     "metadata": {},
     "output_type": "execute_result"
    }
   ],
   "source": [
    "water"
   ]
  },
  {
   "cell_type": "code",
   "execution_count": 6,
   "metadata": {},
   "outputs": [],
   "source": [
    "gap = hydep.Material(\"helium\", mdens=1.5981e-3, temperature=600)"
   ]
  },
  {
   "cell_type": "code",
   "execution_count": 7,
   "metadata": {},
   "outputs": [],
   "source": [
    "gap[\"He4\"] = 2.4004e-4"
   ]
  },
  {
   "cell_type": "code",
   "execution_count": 8,
   "metadata": {},
   "outputs": [],
   "source": [
    "clad = hydep.Material(\"zirc4\", mdens=6.6, temperature=600)"
   ]
  },
  {
   "cell_type": "code",
   "execution_count": 9,
   "metadata": {},
   "outputs": [],
   "source": [
    "clad[80160] = 3.07430e-04\n",
    "clad[80170] = 1.17110e-07\n",
    "clad[240500] = 3.29620e-06\n",
    "clad[240520] = 6.35640e-05\n",
    "clad[240530] = 7.20760e-06\n",
    "clad[240540] = 1.79410e-06\n",
    "clad[260540] = 8.66990e-06\n",
    "clad[260560] = 1.3610e-04\n",
    "clad[260570] = 3.14310e-06\n",
    "clad[260580] = 4.18290e-07\n",
    "clad[400900] = 2.18270e-02\n",
    "clad[400910] = 4.760e-03\n",
    "clad[400920] = 7.27580e-03\n",
    "clad[400940] = 7.37340e-03\n",
    "clad[400960] = 1.18790e-03\n",
    "clad[501120] = 4.67350e-06\n",
    "clad[501140] = 3.17990e-06\n",
    "clad[501150] = 1.63810e-06\n",
    "clad[501160] = 7.00550e-05\n",
    "clad[501170] = 3.70030e-05\n",
    "clad[501180] = 1.16690e-04\n",
    "clad[501190] = 4.13870e-05\n",
    "clad[501200] = 1.56970e-04\n",
    "clad[501220] = 2.23080e-05\n",
    "clad[501240] = 2.78970e-05"
   ]
  },
  {
   "cell_type": "markdown",
   "metadata": {},
   "source": [
    "Here we create a burnable fuel corresponding to 3.5 wt. % enriched UO2 fuel at a temperature of 900 K"
   ]
  },
  {
   "cell_type": "code",
   "execution_count": 10,
   "metadata": {},
   "outputs": [],
   "source": [
    "fuel = hydep.BurnableMaterial(\"fuel\", mdens=10.4, temperature=900)"
   ]
  },
  {
   "cell_type": "code",
   "execution_count": 11,
   "metadata": {},
   "outputs": [],
   "source": [
    "fuel[80160] = 4.63917160e-02\n",
    "fuel[922340] = 9.3422610e-06\n",
    "fuel[922350] = 1.0452130e-03\n",
    "fuel[922360] = 4.78757760e-06\n",
    "fuel[922380] = 2.2145310e-02"
   ]
  },
  {
   "cell_type": "markdown",
   "metadata": {},
   "source": [
    "<div class=\"alert alert-info\">\n",
    "    \n",
    "**Note**\n",
    "\n",
    "`hydep` does not provide any helper utilities for adding elements by enrichment or with other units\n",
    "    \n",
    "</div>"
   ]
  },
  {
   "cell_type": "markdown",
   "metadata": {},
   "source": [
    "## Geometry\n",
    "\n",
    "As mentioned in the package limitations, ``hydep`` is not a general purpose neutronics modeling utility. Instead, a restricted set of geometries is supported, primarily focused on LWRs (e.g. annular fuel pins, Cartesian lattices, etc.) For more information and reasoning, please see [the geometry scope](../scope.rst#geometry-modeling).\n",
    "\n",
    "We will define the basic geometry using the following radii, and set the ``volume`` attribute of the fuel to represent the cross-sectional area"
   ]
  },
  {
   "cell_type": "code",
   "execution_count": 12,
   "metadata": {},
   "outputs": [],
   "source": [
    "rFuel = 0.39218\n",
    "rGap = 0.40005\n",
    "rClad = 0.45720"
   ]
  },
  {
   "cell_type": "code",
   "execution_count": 13,
   "metadata": {},
   "outputs": [],
   "source": [
    "fuel.volume = math.pi * rFuel**2"
   ]
  },
  {
   "cell_type": "markdown",
   "metadata": {},
   "source": [
    "The fuel pin is defined with a series of outer radii, materials that fill the space between each radial ring, and an outer material. This outer material extends from the largest radius to infinity, unless explicitely bounded."
   ]
  },
  {
   "cell_type": "code",
   "execution_count": 14,
   "metadata": {},
   "outputs": [],
   "source": [
    "pin = hydep.Pin([rFuel, rGap, rClad], [fuel, gap, clad], outer=water)"
   ]
  },
  {
   "cell_type": "code",
   "execution_count": 15,
   "metadata": {},
   "outputs": [
    {
     "data": {
      "text/plain": [
       "Pin 1 \n",
       "(0.39218, 0.40005, 0.4572)\n",
       "4 fuel, 2 helium, 3 zirc4\n",
       "1 water"
      ]
     },
     "execution_count": 15,
     "metadata": {},
     "output_type": "execute_result"
    }
   ],
   "source": [
    "pin"
   ]
  },
  {
   "cell_type": "markdown",
   "metadata": {},
   "source": [
    "Now we place this pin as the \"root universe\" in our `Model`, which serves as a more compact interface between the geometry and the rest of the package"
   ]
  },
  {
   "cell_type": "code",
   "execution_count": 16,
   "metadata": {},
   "outputs": [],
   "source": [
    "model = hydep.Model(pin)"
   ]
  },
  {
   "cell_type": "markdown",
   "metadata": {},
   "source": [
    "Currently our problem is completely unbounded, since both our `Model` and its root universe do not have boundaries"
   ]
  },
  {
   "cell_type": "code",
   "execution_count": 17,
   "metadata": {},
   "outputs": [],
   "source": [
    "pin.bounds"
   ]
  },
  {
   "cell_type": "code",
   "execution_count": 18,
   "metadata": {},
   "outputs": [],
   "source": [
    "model.bounds"
   ]
  },
  {
   "cell_type": "markdown",
   "metadata": {},
   "source": [
    "Some of the geometric structures can infer their boundaries, but this is not always the case. Without further information, the `Pin` does not know how far the outer region should extend. We can indicate that our model should span a pin pitch of 1.2 cm, and be unbounded axially by setting `Model.bounds = (x, y, z) = ((x_lower, x_upper), (y_lower, y_upper), (z_lower, z_upper))`"
   ]
  },
  {
   "cell_type": "code",
   "execution_count": 19,
   "metadata": {},
   "outputs": [],
   "source": [
    "model.bounds = (\n",
    "    (-0.6, 0.6),\n",
    "    (-0.6, 0.6),\n",
    "    None,\n",
    ")"
   ]
  },
  {
   "cell_type": "markdown",
   "metadata": {},
   "source": [
    "The special value of `bounds.z = None` denotes infinite axial boundaries"
   ]
  },
  {
   "cell_type": "code",
   "execution_count": 20,
   "metadata": {},
   "outputs": [
    {
     "data": {
      "text/plain": [
       "Boundaries((-0.6, 0.6), (-0.6, 0.6), (-inf, inf))"
      ]
     },
     "execution_count": 20,
     "metadata": {},
     "output_type": "execute_result"
    }
   ],
   "source": [
    "model.bounds"
   ]
  },
  {
   "cell_type": "code",
   "execution_count": 21,
   "metadata": {},
   "outputs": [
    {
     "data": {
      "text/plain": [
       "(-inf, inf)"
      ]
     },
     "execution_count": 21,
     "metadata": {},
     "output_type": "execute_result"
    }
   ],
   "source": [
    "model.bounds.z"
   ]
  },
  {
   "cell_type": "markdown",
   "metadata": {},
   "source": [
    "<div class=\"alert alert-info\">\n",
    "\n",
    "**Note**\n",
    "\n",
    "`hydep` does not contain any visualization routines nor model verification checks\n",
    "\n",
    "</div>"
   ]
  },
  {
   "cell_type": "markdown",
   "metadata": {},
   "source": [
    "## Depletion\n",
    "\n",
    "Two classes are primarily responsible for defining the depletion schedule, and the paths by which isotopes are transmuted. \n",
    "\n",
    "First a `DepletionChain`, heavily inspired by \n",
    "[the OpenMC depletion API](https://docs.openmc.org/en/latest/pythonapi/generated/openmc.deplete.Chain.html#openmc.deplete.Chain), \n",
    "is used to describe the decay and reaction channels for a collection of isotopes. This `DepletionChain` can be built using the same XML input files, up to those supported by at least OpenMC version 0.12.0. There are some differences in the implementation and structuring of the depletion data, and each representation is not exchangable with the other, e.g. using an `openmc.deplete.Chain` inside this package in place of a `hydep.DepletionChain` is not supported"
   ]
  },
  {
   "cell_type": "code",
   "execution_count": 22,
   "metadata": {},
   "outputs": [],
   "source": [
    "chain = hydep.DepletionChain.fromXml(\"../../chains/chain_endfb71.xml\")"
   ]
  },
  {
   "cell_type": "markdown",
   "metadata": {},
   "source": [
    "The `Manager` class is responsible for dictating the time schedule, e.g. time step size, constant or variable power, and substepping divisions. The latter is used to determine how many reduced-order transport solutions are performed at each time step. We will use a power of 174 W corresponding to a pin with height of 1 cm operating at 174 W/cm linear power.\n",
    "\n",
    "Time steps are provided in units of days, and users can provide a single power to be used across all time steps, or one power per time step. We will instruct the framework to divide the first interval of five days into five, single day substeps. The reduced-order code will provide the flux solutions at days 2, 3, and 4 with this schedule. These substep fluxes will be used to deplete across a smaller time step, hopefully reducing computational time without penalizing accuracy by a substantial margin. The overall accuracy of your solution will be dependent on many factors, coarse step (distance between high-fidelity solutions) and substep size, operating power, and compositions in your problem."
   ]
  },
  {
   "cell_type": "code",
   "execution_count": 23,
   "metadata": {},
   "outputs": [],
   "source": [
    "manager = hydep.Manager(\n",
    "    chain,\n",
    "    daysteps=[5, 5],  # days\n",
    "    power=174,  # W\n",
    "    substepDivision=[5, 1],\n",
    ")"
   ]
  },
  {
   "cell_type": "markdown",
   "metadata": {},
   "source": [
    "Now the depletion side of the problem is handled, as the manager will be responsible for accepting reaction rates across all burnable materials, and passing back new compositions to the framework. By default, the 16-th order incomplete partial factorization form of CRAM [Pusa 2016](https://doi.org/10.13182/NSE15-26) will be used. The solver can be configured through `Manager.setDepletionSolver`"
   ]
  },
  {
   "cell_type": "markdown",
   "metadata": {},
   "source": [
    "<div class=\"alert alert-info\">\n",
    "            \n",
    "**See also**\n",
    "\n",
    "* [Depletion reference](../api/depletion.rst)\n",
    "* OpenMC depletion chain sources: https://openmc.org/depletion-chains/\n",
    "            \n",
    "</div>"
   ]
  },
  {
   "cell_type": "markdown",
   "metadata": {},
   "source": [
    "## Mixed fidelity transport solutions\n",
    "\n",
    "`hydep` was developed in order to facilitate efficient transport-depletion solutions by coupling high-fidelity and reduced-order transport solutions together. If one was to model depletion with a fine time scale, the computational resources required for an accurate and stable Monte Carlo solution can become burdensome. The simulation time can be reduced by exchanging some or many of the high-fidelity solutions with faster reduced-order simulations. The cost of this exchange is related to the accuracy of the reduced-order code.\n",
    "\n",
    "One of the goals of `hydep` is to provide a modeling framework that can be understood by Monte Carlo and deterministic transport codes. This drives the geometry restrictions above, but it also - _in theory_ - allows minimal updates to switch between two high-fidelity codes and/or two reduced-order codes. This is enabled by the abstraction of the solvers away from the classes responsible for depleting and marching forward in time, similar to the design of `openmc.deplete`. We have our geometry defined, and the class responsible for updating compositions, now we must define the high-fidelity and reduced-order transport solvers.\n",
    "\n",
    "`hydep` provides three submodules for interfacing with existing transport codes:\n",
    "\n",
    "* `hydep.serpent` - [Interface for the Serpent Monte Carlo code](../api/serpent.rst)\n",
    "* `hydep.simplerom` - [Solver that passes back most recent high-fidelity flux solution](../api/simplero.rst)\n",
    "* `hydep.sfv` - [Interface for using the spatial flux variation method (SFV) as a reduced-order solver](../api/sfv.rst)\n",
    "\n",
    "Here, we will use the standard Serpent solver (2.1.30+) in conjunction with the `SimpleROSolver` "
   ]
  },
  {
   "cell_type": "markdown",
   "metadata": {},
   "source": [
    "<div class=\"alert alert-warning\">\n",
    "\n",
    "**Warning**\n",
    "\n",
    "The `hydep.serpent` module requires the `serpentTools` python package - https://serpent-tools.readthedocs.io/en/latest/\n",
    "    \n",
    "</div>"
   ]
  },
  {
   "cell_type": "code",
   "execution_count": 24,
   "metadata": {},
   "outputs": [],
   "source": [
    "import hydep.serpent\n",
    "import hydep.simplerom"
   ]
  },
  {
   "cell_type": "code",
   "execution_count": 25,
   "metadata": {},
   "outputs": [],
   "source": [
    "highFi = hydep.serpent.SerpentSolver()"
   ]
  },
  {
   "cell_type": "code",
   "execution_count": 26,
   "metadata": {},
   "outputs": [],
   "source": [
    "reduced = hydep.simplerom.SimpleROSolver()"
   ]
  },
  {
   "cell_type": "markdown",
   "metadata": {},
   "source": [
    "Both classes do not require input arguments, but are configured through a custom settings interface"
   ]
  },
  {
   "cell_type": "markdown",
   "metadata": {},
   "source": [
    "## Settings\n",
    "\n",
    "`hydep` can be configured through an INI / CFG file via the `Settings` class. Attributes on the `Settings` class are passed directly to the various solvers and define both global parameters (boundary conditions, use of temporary directory) and solver-specific options (initial guess of $k$, data libraries, and particle statistics for Serpent)."
   ]
  },
  {
   "cell_type": "code",
   "execution_count": 27,
   "metadata": {},
   "outputs": [],
   "source": [
    "settings = hydep.Settings()"
   ]
  },
  {
   "cell_type": "code",
   "execution_count": 28,
   "metadata": {},
   "outputs": [],
   "source": [
    "settings.updateAll({\n",
    "    \"hydep\": {\n",
    "        \"boundary conditions\": \"reflective\",\n",
    "        \"use temp dir\": True,\n",
    "    },\n",
    "    \"hydep.serpent\": {\n",
    "        \"active\" : 10,\n",
    "        \"inactive\": 5,\n",
    "        \"particles\": 1e2,\n",
    "        \"generations per batch\": 2,\n",
    "        \"executable\": \"sss2\",\n",
    "        \"acelib\": \"sss_endfb7u.xsdata\",\n",
    "        \"declib\": \"sss_endfb7.dec\",\n",
    "        \"nfylib\": \"sss_endfb7.nfy\",\n",
    "    }\n",
    "})"
   ]
  },
  {
   "cell_type": "markdown",
   "metadata": {},
   "source": [
    "The goal of this approach is to reduce the amount of information that must be updated in order to switch between supported transport solvers. In theory, one could swap out a different high-fidelity solver, update a few lines of the configuration file, and the framework would be able to run without a problem. This is a difficult claim to prove, given only a single high-fidelity solver is supported at the moment. But the design of the interfaces and reliance on abstraction are indications that this claim has merit."
   ]
  },
  {
   "cell_type": "markdown",
   "metadata": {},
   "source": [
    "<div class=\"alert alert-info\">\n",
    "    \n",
    "**See also**\n",
    "\n",
    "* [Example configuration](../configuration.rst#example-configuration)\n",
    "* [Settings interface](../api/settings.rst)\n",
    "    \n",
    "</div>"
   ]
  },
  {
   "cell_type": "markdown",
   "metadata": {},
   "source": [
    "## Putting it all together\n",
    "\n",
    "`hydep` provides [integrator classes](../api/integrators.rst) much like those provided in `openmc.deplete`, though not as extensive nor complicated. This is partly because the use of reduced-order transport solutions should allow smaller depletion steps without substantial increase in computational resources. Some higher-order schemes are provided, and other can be added in ways that mimic the `openmc.deplete` classes.\n",
    "\n",
    "We will start with the basic `PredictorIntegrator`, using a single high-fidelity solution per coarse and substep. When constructing the integrators, we must provide all the simulation data: geometry, depletion schedule and chain, and transport solvers."
   ]
  },
  {
   "cell_type": "code",
   "execution_count": 29,
   "metadata": {},
   "outputs": [],
   "source": [
    "pred = hydep.PredictorIntegrator(model, highFi, reduced, manager)"
   ]
  },
  {
   "cell_type": "markdown",
   "metadata": {},
   "source": [
    "We also apply our settings to the integrator, which will be passed to the main solution sequence."
   ]
  },
  {
   "cell_type": "code",
   "execution_count": 30,
   "metadata": {},
   "outputs": [],
   "source": [
    "pred.settings = settings"
   ]
  },
  {
   "cell_type": "markdown",
   "metadata": {},
   "source": [
    "`hydep` allows users and developers to define their own data storage routine. By default, the `h5py` package [h5py]_ will be used to create a single output file containing simulation data. This is configured automatically if such storage is not defined prior to calling `Integrator.integrate`, and can also be configured with the `store` attribute"
   ]
  },
  {
   "cell_type": "code",
   "execution_count": 31,
   "metadata": {},
   "outputs": [],
   "source": [
    "from hydep.hdfstore import HdfStore"
   ]
  },
  {
   "cell_type": "code",
   "execution_count": 32,
   "metadata": {},
   "outputs": [],
   "source": [
    "pred.store = HdfStore(\"pincell-results.h5\")  # file name is optional"
   ]
  },
  {
   "cell_type": "markdown",
   "metadata": {},
   "source": [
    "We can finally run the simulation."
   ]
  },
  {
   "cell_type": "code",
   "execution_count": 33,
   "metadata": {},
   "outputs": [
    {
     "name": "stderr",
     "output_type": "stream",
     "text": [
      "/home/drew/research/hydep/src/hydep/serpent/processor.py:769: DataWarning: The following isotopes did not have fission yields at an energy of 0.0253 eV, but were replaced by the closet set of provided yields: {902320: 500000.0, 922340: 500000.0, 922360: 500000.0, 922380: 500000.0}\n",
      "  warnings.warn(\n"
     ]
    },
    {
     "ename": "FailedSolverError",
     "evalue": " -- Points added in neutron grid: 84\n 95344.09c -- Points added in neutron grid: 57\n 96242.09c -- Points added in neutron grid: 1396\n 96243.09c -- Points added in neutron grid: 1601\n 96244.09c -- Points added in neutron grid: 5565\n\nGenerating unionized energy grid:\n\n - Unionization performed without grid thinning\n   between 1.00E-11 and 20.0 MeV.\n\n - Final neutron grid size: 1094282 points.\n\n - 25.05 Mb of memory allocated for grid data\n\nOK.\n\nProcessing cross sections and ENDF reaction laws...\n\n",
     "output_type": "error",
     "traceback": [
      "\u001b[1;31m---------------------------------------------------------------------------\u001b[0m",
      "\u001b[1;31mFailedSolverError\u001b[0m                         Traceback (most recent call last)",
      "\u001b[1;32m<ipython-input-33-4d48538004ef>\u001b[0m in \u001b[0;36m<module>\u001b[1;34m\u001b[0m\n\u001b[1;32m----> 1\u001b[1;33m \u001b[0mpred\u001b[0m\u001b[1;33m.\u001b[0m\u001b[0mintegrate\u001b[0m\u001b[1;33m(\u001b[0m\u001b[1;33m)\u001b[0m\u001b[1;33m\u001b[0m\u001b[1;33m\u001b[0m\u001b[0m\n\u001b[0m",
      "\u001b[1;32m~/research/hydep/src/hydep/_integrator.py\u001b[0m in \u001b[0;36mintegrate\u001b[1;34m(self, initialDays)\u001b[0m\n\u001b[0;32m    262\u001b[0m             \u001b[1;31m# Context manager?\u001b[0m\u001b[1;33m\u001b[0m\u001b[1;33m\u001b[0m\u001b[1;33m\u001b[0m\u001b[0m\n\u001b[0;32m    263\u001b[0m             \u001b[0mself\u001b[0m\u001b[1;33m.\u001b[0m\u001b[0m_locked\u001b[0m \u001b[1;33m=\u001b[0m \u001b[1;32mTrue\u001b[0m\u001b[1;33m\u001b[0m\u001b[1;33m\u001b[0m\u001b[0m\n\u001b[1;32m--> 264\u001b[1;33m             \u001b[0mself\u001b[0m\u001b[1;33m.\u001b[0m\u001b[0m_mainsequence\u001b[0m\u001b[1;33m(\u001b[0m\u001b[0minitialDays\u001b[0m \u001b[1;33m*\u001b[0m \u001b[0mSECONDS_PER_DAY\u001b[0m\u001b[1;33m)\u001b[0m\u001b[1;33m\u001b[0m\u001b[1;33m\u001b[0m\u001b[0m\n\u001b[0m\u001b[0;32m    265\u001b[0m             \u001b[0msuccess\u001b[0m \u001b[1;33m=\u001b[0m \u001b[1;32mTrue\u001b[0m\u001b[1;33m\u001b[0m\u001b[1;33m\u001b[0m\u001b[0m\n\u001b[0;32m    266\u001b[0m         \u001b[1;32mfinally\u001b[0m\u001b[1;33m:\u001b[0m\u001b[1;33m\u001b[0m\u001b[1;33m\u001b[0m\u001b[0m\n",
      "\u001b[1;32m~/research/hydep/src/hydep/_integrator.py\u001b[0m in \u001b[0;36m_mainsequence\u001b[1;34m(self, startSeconds)\u001b[0m\n\u001b[0;32m    335\u001b[0m             \u001b[0mtype\u001b[0m\u001b[1;33m(\u001b[0m\u001b[0mself\u001b[0m\u001b[1;33m.\u001b[0m\u001b[0mhf\u001b[0m\u001b[1;33m)\u001b[0m\u001b[1;33m.\u001b[0m\u001b[0m__name__\u001b[0m\u001b[1;33m,\u001b[0m \u001b[0mtimestep\u001b[0m\u001b[1;33m.\u001b[0m\u001b[0mcoarse\u001b[0m\u001b[1;33m,\u001b[0m \u001b[0mtimestep\u001b[0m\u001b[1;33m.\u001b[0m\u001b[0mcurrentTime\u001b[0m \u001b[1;33m/\u001b[0m \u001b[0mSECONDS_PER_DAY\u001b[0m\u001b[1;33m,\u001b[0m\u001b[1;33m\u001b[0m\u001b[1;33m\u001b[0m\u001b[0m\n\u001b[0;32m    336\u001b[0m         )\n\u001b[1;32m--> 337\u001b[1;33m         \u001b[0mresult\u001b[0m \u001b[1;33m=\u001b[0m \u001b[0mself\u001b[0m\u001b[1;33m.\u001b[0m\u001b[0mhf\u001b[0m\u001b[1;33m.\u001b[0m\u001b[0meolSolve\u001b[0m\u001b[1;33m(\u001b[0m\u001b[0mcompositions\u001b[0m\u001b[1;33m,\u001b[0m \u001b[0mtimestep\u001b[0m\u001b[1;33m,\u001b[0m \u001b[0mself\u001b[0m\u001b[1;33m.\u001b[0m\u001b[0mdep\u001b[0m\u001b[1;33m.\u001b[0m\u001b[0mpowers\u001b[0m\u001b[1;33m[\u001b[0m\u001b[1;33m-\u001b[0m\u001b[1;36m1\u001b[0m\u001b[1;33m]\u001b[0m\u001b[1;33m)\u001b[0m\u001b[1;33m\u001b[0m\u001b[1;33m\u001b[0m\u001b[0m\n\u001b[0m\u001b[0;32m    338\u001b[0m         \u001b[0m__logger__\u001b[0m\u001b[1;33m.\u001b[0m\u001b[0minfo\u001b[0m\u001b[1;33m(\u001b[0m\u001b[1;34m\"   k =  %.6f +/- %.6E\"\u001b[0m\u001b[1;33m,\u001b[0m \u001b[0mresult\u001b[0m\u001b[1;33m.\u001b[0m\u001b[0mkeff\u001b[0m\u001b[1;33m[\u001b[0m\u001b[1;36m0\u001b[0m\u001b[1;33m]\u001b[0m\u001b[1;33m,\u001b[0m \u001b[0mresult\u001b[0m\u001b[1;33m.\u001b[0m\u001b[0mkeff\u001b[0m\u001b[1;33m[\u001b[0m\u001b[1;36m1\u001b[0m\u001b[1;33m]\u001b[0m\u001b[1;33m)\u001b[0m\u001b[1;33m\u001b[0m\u001b[1;33m\u001b[0m\u001b[0m\n\u001b[0;32m    339\u001b[0m         \u001b[0mself\u001b[0m\u001b[1;33m.\u001b[0m\u001b[0mstore\u001b[0m\u001b[1;33m.\u001b[0m\u001b[0mpostTransport\u001b[0m\u001b[1;33m(\u001b[0m\u001b[0mtimestep\u001b[0m\u001b[1;33m,\u001b[0m \u001b[0mresult\u001b[0m\u001b[1;33m)\u001b[0m\u001b[1;33m\u001b[0m\u001b[1;33m\u001b[0m\u001b[0m\n",
      "\u001b[1;32m~/research/hydep/src/hydep/serpent/solver.py\u001b[0m in \u001b[0;36meolSolve\u001b[1;34m(self, compositions, timestep, power)\u001b[0m\n\u001b[0;32m    320\u001b[0m \u001b[1;33m\u001b[0m\u001b[0m\n\u001b[0;32m    321\u001b[0m         \"\"\"\n\u001b[1;32m--> 322\u001b[1;33m         \u001b[1;32mreturn\u001b[0m \u001b[0mself\u001b[0m\u001b[1;33m.\u001b[0m\u001b[0m_solve\u001b[0m\u001b[1;33m(\u001b[0m\u001b[0mcompositions\u001b[0m\u001b[1;33m,\u001b[0m \u001b[0mtimestep\u001b[0m\u001b[1;33m,\u001b[0m \u001b[0mpower\u001b[0m\u001b[1;33m,\u001b[0m \u001b[0mfinal\u001b[0m\u001b[1;33m=\u001b[0m\u001b[1;32mTrue\u001b[0m\u001b[1;33m)\u001b[0m\u001b[1;33m\u001b[0m\u001b[1;33m\u001b[0m\u001b[0m\n\u001b[0m\u001b[0;32m    323\u001b[0m \u001b[1;33m\u001b[0m\u001b[0m\n\u001b[0;32m    324\u001b[0m     \u001b[1;32mdef\u001b[0m \u001b[0m_solve\u001b[0m\u001b[1;33m(\u001b[0m\u001b[0mself\u001b[0m\u001b[1;33m,\u001b[0m \u001b[0mcompositions\u001b[0m\u001b[1;33m,\u001b[0m \u001b[0mtimestep\u001b[0m\u001b[1;33m,\u001b[0m \u001b[0mpower\u001b[0m\u001b[1;33m,\u001b[0m \u001b[0mfinal\u001b[0m\u001b[1;33m=\u001b[0m\u001b[1;32mFalse\u001b[0m\u001b[1;33m)\u001b[0m\u001b[1;33m:\u001b[0m\u001b[1;33m\u001b[0m\u001b[1;33m\u001b[0m\u001b[0m\n",
      "\u001b[1;32m~/research/hydep/src/hydep/serpent/solver.py\u001b[0m in \u001b[0;36m_solve\u001b[1;34m(self, compositions, timestep, power, final)\u001b[0m\n\u001b[0;32m    327\u001b[0m \u001b[1;33m\u001b[0m\u001b[0m\n\u001b[0;32m    328\u001b[0m         \u001b[0mstart\u001b[0m \u001b[1;33m=\u001b[0m \u001b[0mtime\u001b[0m\u001b[1;33m.\u001b[0m\u001b[0mtime\u001b[0m\u001b[1;33m(\u001b[0m\u001b[1;33m)\u001b[0m\u001b[1;33m\u001b[0m\u001b[1;33m\u001b[0m\u001b[0m\n\u001b[1;32m--> 329\u001b[1;33m         \u001b[0mself\u001b[0m\u001b[1;33m.\u001b[0m\u001b[0mrunner\u001b[0m\u001b[1;33m(\u001b[0m\u001b[0mcurfile\u001b[0m\u001b[1;33m)\u001b[0m\u001b[1;33m\u001b[0m\u001b[1;33m\u001b[0m\u001b[0m\n\u001b[0m\u001b[0;32m    330\u001b[0m         \u001b[0mend\u001b[0m \u001b[1;33m=\u001b[0m \u001b[0mtime\u001b[0m\u001b[1;33m.\u001b[0m\u001b[0mtime\u001b[0m\u001b[1;33m(\u001b[0m\u001b[1;33m)\u001b[0m\u001b[1;33m\u001b[0m\u001b[1;33m\u001b[0m\u001b[0m\n\u001b[0;32m    331\u001b[0m \u001b[1;33m\u001b[0m\u001b[0m\n",
      "\u001b[1;32m~/research/hydep/src/hydep/serpent/runner.py\u001b[0m in \u001b[0;36m__call__\u001b[1;34m(self, inputpath)\u001b[0m\n\u001b[0;32m    222\u001b[0m             \u001b[0mmsg\u001b[0m \u001b[1;33m=\u001b[0m \u001b[0mproc\u001b[0m\u001b[1;33m.\u001b[0m\u001b[0mstdout\u001b[0m\u001b[1;33m[\u001b[0m\u001b[1;33m-\u001b[0m\u001b[1;36m500\u001b[0m\u001b[1;33m:\u001b[0m\u001b[1;33m]\u001b[0m\u001b[1;33m.\u001b[0m\u001b[0mdecode\u001b[0m\u001b[1;33m(\u001b[0m\u001b[1;33m)\u001b[0m\u001b[1;33m\u001b[0m\u001b[1;33m\u001b[0m\u001b[0m\n\u001b[0;32m    223\u001b[0m             \u001b[1;31m# TODO Improve error parsing?\u001b[0m\u001b[1;33m\u001b[0m\u001b[1;33m\u001b[0m\u001b[1;33m\u001b[0m\u001b[0m\n\u001b[1;32m--> 224\u001b[1;33m             \u001b[1;32mraise\u001b[0m \u001b[0mFailedSolverError\u001b[0m\u001b[1;33m(\u001b[0m\u001b[0mmsg\u001b[0m\u001b[1;33m)\u001b[0m\u001b[1;33m\u001b[0m\u001b[1;33m\u001b[0m\u001b[0m\n\u001b[0m\u001b[0;32m    225\u001b[0m \u001b[1;33m\u001b[0m\u001b[0m\n\u001b[0;32m    226\u001b[0m \u001b[1;33m\u001b[0m\u001b[0m\n",
      "\u001b[1;31mFailedSolverError\u001b[0m:  -- Points added in neutron grid: 84\n 95344.09c -- Points added in neutron grid: 57\n 96242.09c -- Points added in neutron grid: 1396\n 96243.09c -- Points added in neutron grid: 1601\n 96244.09c -- Points added in neutron grid: 5565\n\nGenerating unionized energy grid:\n\n - Unionization performed without grid thinning\n   between 1.00E-11 and 20.0 MeV.\n\n - Final neutron grid size: 1094282 points.\n\n - 25.05 Mb of memory allocated for grid data\n\nOK.\n\nProcessing cross sections and ENDF reaction laws...\n\n"
     ]
    }
   ],
   "source": [
    "pred.integrate()"
   ]
  },
  {
   "cell_type": "markdown",
   "metadata": {},
   "source": [
    "## References\n",
    "\n",
    "[h5py] http://docs.h5py.org/en/stable/\n",
    "\n",
    "[serpentTools] http://serpent-tools.readthedocs.io/en/latest/\n",
    "\n",
    "[OpenMC] https://docs.openmc.org/en/latest/\n",
    "\n",
    "[openmc.deplete] https://docs.openmc.org/en/latest/pythonapi/deplete.html#module-openmc.deplete"
   ]
  },
  {
   "cell_type": "code",
   "execution_count": null,
   "metadata": {},
   "outputs": [],
   "source": []
  }
 ],
 "metadata": {
  "kernelspec": {
   "display_name": "Python 3.8.3 64-bit",
   "language": "python",
   "name": "python38364bit6e33cf4630c844b293ad5efb5e398a0a"
  },
  "language_info": {
   "codemirror_mode": {
    "name": "ipython",
    "version": 3
   },
   "file_extension": ".py",
   "mimetype": "text/x-python",
   "name": "python",
   "nbconvert_exporter": "python",
   "pygments_lexer": "ipython3",
   "version": "3.8.4"
  }
 },
 "nbformat": 4,
 "nbformat_minor": 2
}
